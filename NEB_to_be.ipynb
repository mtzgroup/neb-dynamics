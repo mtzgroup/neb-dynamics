{
 "cells": [
  {
   "cell_type": "code",
   "execution_count": 190,
   "id": "5d4036cf-f866-4bda-9db1-9c0fcc2315f1",
   "metadata": {},
   "outputs": [],
   "source": [
    "import numpy as np\n",
    "import matplotlib.pyplot as plt\n"
   ]
  },
  {
   "cell_type": "markdown",
   "id": "16b1757d-68ca-4d09-b59a-31593d6ea9a2",
   "metadata": {},
   "source": [
    "# Define potential"
   ]
  },
  {
   "cell_type": "code",
   "execution_count": 3,
   "id": "7fa1db78-11bd-4c14-b65e-dd8a8abb8029",
   "metadata": {},
   "outputs": [
    {
     "data": {
      "text/plain": [
       "-0.13105045122663772"
      ]
     },
     "execution_count": 3,
     "metadata": {},
     "output_type": "execute_result"
    }
   ],
   "source": [
    "def coulomb(r, d, r0, alpha):\n",
    "    return (d/2)*((3/2)*np.exp(-2*alpha*(r - r0)) - np.exp(-alpha*(r-r0)))\n",
    "coulomb(d=4.746, r=1, r0=0.742, alpha=1.942)"
   ]
  },
  {
   "cell_type": "code",
   "execution_count": 4,
   "id": "d05f2047-1609-48d1-8a31-d1861f796ae4",
   "metadata": {},
   "outputs": [
    {
     "data": {
      "text/plain": [
       "-3.8778352588641103"
      ]
     },
     "execution_count": 4,
     "metadata": {},
     "output_type": "execute_result"
    }
   ],
   "source": [
    "def exchange(r, d, r0, alpha):\n",
    "    return (d/4)*(np.exp(-2*alpha*(r - r0)) - 6*np.exp(-alpha*(r-r0)))\n",
    "exchange(d=4.746, r=1, r0=0.742, alpha=1.942)"
   ]
  },
  {
   "cell_type": "code",
   "execution_count": 5,
   "id": "cc04d341-32fb-419a-b3eb-b45137f0c9ac",
   "metadata": {},
   "outputs": [],
   "source": [
    "# plt.plot([coulomb(d=4.746, r=x, r0=0.742, alpha=1.942) for x in list(range(10))])"
   ]
  },
  {
   "cell_type": "code",
   "execution_count": 6,
   "id": "bc77b191-e5f5-4435-82d1-21bb28176eb4",
   "metadata": {},
   "outputs": [
    {
     "data": {
      "text/plain": [
       "-3.603030632314499"
      ]
     },
     "execution_count": 6,
     "metadata": {},
     "output_type": "execute_result"
    }
   ],
   "source": [
    "\n",
    "\n",
    "def potential(r_ab, r_bc, a=0.05, b=0.30, c=0.05, d_ab=4.746, \n",
    "                d_bc=4.746, d_ac=3.445, r0=0.742, alpha=1.942):\n",
    "    Q_AB = coulomb(r=r_ab, d=d_ab, r0=r0, alpha=alpha)\n",
    "    Q_BC = coulomb(r=r_bc, d=d_bc, r0=r0, alpha=alpha)\n",
    "    Q_AC = coulomb(r=d_ac, d=d_ac, r0=r0, alpha=alpha)\n",
    "    \n",
    "    J_AB = exchange(r=r_ab, d=d_ab, r0=r0, alpha=alpha)\n",
    "    J_BC = exchange(r=r_bc, d=d_bc, r0=r0, alpha=alpha)\n",
    "    J_AC = exchange(r=d_ac, d=d_ac, r0=r0, alpha=alpha)\n",
    "    \n",
    "    result_Qs = (Q_AB/(1 + a)) + (Q_BC/(1+b)) + (Q_AC/(1+c)) \n",
    "    result_Js_1 = ((J_AB**2) / ((1+a)**2)) + ((J_BC**2) / ((1+b)**2)) + ((J_AC**2) / ((1+c)**2))\n",
    "    result_Js_2 = ((J_AB*J_BC)/((1+a)*(1+b))) + ((J_AC*J_BC)/((1+c)*(1+b)))+ ((J_AB*J_AC)/((1+a)*(1+c)))\n",
    "    result_Js = result_Js_1 - result_Js_2\n",
    "    \n",
    "    \n",
    "    result = result_Qs - (result_Js)**(1/2)\n",
    "    return result\n",
    "potential(1,1)"
   ]
  },
  {
   "cell_type": "code",
   "execution_count": 581,
   "id": "789700d7-8cd5-460a-b382-332005a3589a",
   "metadata": {},
   "outputs": [],
   "source": [
    "def toy_potential(x, y, height=1):\n",
    "    result = -x**2 + -y**2 + 10\n",
    "    return np.where(result<0, 0, result)"
   ]
  },
  {
   "cell_type": "code",
   "execution_count": 582,
   "id": "b1bbfbe5-d8b1-4a38-a5d5-b7428fcd9a5a",
   "metadata": {},
   "outputs": [],
   "source": [
    "def toy_grad(x, y ):\n",
    "    if toy_potential(x, y)==0: return [0,0]\n",
    "    dx = -2*x \n",
    "    dy = -2*y\n",
    "    \n",
    "    return dx, dy"
   ]
  },
  {
   "cell_type": "code",
   "execution_count": 600,
   "id": "2981776e-05c4-407a-890c-6746e9b98d21",
   "metadata": {},
   "outputs": [],
   "source": [
    "def toy_potential_2(x, y):\n",
    "    return (x**2 + y - 11)**2 + (x + y**2 -7)**2"
   ]
  },
  {
   "cell_type": "code",
   "execution_count": 622,
   "id": "dd86971c-ba31-408a-9126-cb92aa8f9230",
   "metadata": {},
   "outputs": [],
   "source": [
    "def toy_grad_2(x, y):\n",
    "    dx = 2*(x**2 + y - 11)*(2*x) + 2*(x + y**2 - 7)\n",
    "    dy = 2*(x**2 + y - 11) + 2*(x+y**2 - 7)*(2*y)\n",
    "    return dx, dy"
   ]
  },
  {
   "cell_type": "code",
   "execution_count": 692,
   "id": "76d22a36-c1e2-4fc7-9472-d931bf2bcd35",
   "metadata": {},
   "outputs": [],
   "source": [
    "def spring_grad(x, y, neighs, k=0.1, ideal_distance=0.5, en_func=toy_potential, grad_func=toy_grad):\n",
    "    pe_grad = grad_func(x, y)\n",
    "    # pe_grad = 0\n",
    "    \n",
    "\n",
    "    \n",
    "    grads_neighs = []\n",
    "    for neigh in neighs:\n",
    "        neigh_x, neigh_y = neigh\n",
    "        dist_x = np.abs(neigh_x - x)\n",
    "        dist_y = np.abs(neigh_y - y)\n",
    "        \n",
    "        force_x = -k*(dist_x - ideal_distance)\n",
    "        force_y = -k*(dist_y - ideal_distance)\n",
    "        # print(f\"\\t{force_x=} {force_y=}\")\n",
    "        \n",
    "        if (neigh_x > x): \n",
    "            force_x*= -1\n",
    "        \n",
    "        if  (neigh_y > y): \n",
    "            force_y*= -1\n",
    "\n",
    "        \n",
    "            \n",
    "        \n",
    "        grads_neighs.append((force_x, force_y))\n",
    "    \n",
    "    # print(f\"\\t{grads_neighs=}\")\n",
    "        \n",
    "    tot_grads_neighs = np.sum(grads_neighs, axis=0)\n",
    "    # print(f\"{tot_grads_neighs}\")\n",
    "    return tot_grads_neighs - pe_grad\n",
    "        \n",
    "        "
   ]
  },
  {
   "cell_type": "code",
   "execution_count": 584,
   "id": "ddc3a944-1e4d-4af4-a304-aec04cd10923",
   "metadata": {},
   "outputs": [],
   "source": [
    "# x = np.linspace(start=0,stop=4, num=10)\n",
    "# y = x.reshape(-1,1)\n",
    "# h = potential(x, y, d_ac=1)\n",
    "# cs = plt.contourf(h)\n"
   ]
  },
  {
   "cell_type": "code",
   "execution_count": 585,
   "id": "fa962e54-3441-420e-9c8b-9ccc9c5f84d1",
   "metadata": {},
   "outputs": [],
   "source": [
    "def dist(p1, p2):\n",
    "    x1,y1 = p1\n",
    "    x2,y2 = p2\n",
    "    return np.sqrt((x2-x1)**2 + (y2-y1)**2)"
   ]
  },
  {
   "cell_type": "code",
   "execution_count": 586,
   "id": "4ea20e86-5c6f-4c9f-b6c5-6dbff1baca3f",
   "metadata": {},
   "outputs": [],
   "source": [
    "def update_points(chain, grad, dr):\n",
    "    new_chain = []\n",
    "    for point in chain:\n",
    "        p_current = point \n",
    "\n",
    "    \n",
    "\n",
    "        p_x, p_y = p_current\n",
    "        grad_x, grad_y = grad(p_x, p_y)\n",
    "        p_new = (p_x + (-grad_x*dr), p_y + (-grad_y*dr))\n",
    "\n",
    "\n",
    "\n",
    "        p_current = p_new\n",
    "        new_chain.append(p_current)\n",
    "        \n",
    "    return new_chain\n",
    "        \n"
   ]
  },
  {
   "cell_type": "code",
   "execution_count": 730,
   "id": "99dc80a3-781d-4b1c-bc45-a51bb850904d",
   "metadata": {},
   "outputs": [],
   "source": [
    "def update_points_spring(chain, dr,  en_func, grad_func, k=1, ideal_dist=0.5):\n",
    "    new_chain = [chain[0]]\n",
    "\n",
    "    \n",
    "    for i in range(1, len(chain)-1):\n",
    "\n",
    "        \n",
    "        point = chain[i]\n",
    "        p_current = point \n",
    "\n",
    "    \n",
    "\n",
    "        p_x, p_y = p_current\n",
    "        if i==0:\n",
    "            neighs= [chain[1]]\n",
    "        elif i==len(chain)-1:\n",
    "            neighs=[chain[-2]]\n",
    "            \n",
    "        else:\n",
    "            neighs=[chain[i-1], chain[i+1]]\n",
    "        grad_x, grad_y = spring_grad(p_x, p_y, neighs=neighs, k=k, ideal_distance=ideal_dist, grad_func=grad_func, en_func=en_func)\n",
    "        # print(f\"{grad_x=} {grad_y=}\")\n",
    "        p_new = (p_x + (grad_x*dr), p_y + (grad_y*dr))\n",
    "\n",
    "\n",
    "\n",
    "        p_current = p_new\n",
    "        new_chain.append(p_current)\n",
    "    new_chain.append(chain[-1])\n",
    "        \n",
    "    return new_chain"
   ]
  },
  {
   "cell_type": "markdown",
   "id": "a7b6a2a9-eb71-48c4-a242-2c816929e3ea",
   "metadata": {},
   "source": [
    "### NB:\n",
    "For top left to bottom right, k=25, idealdist=10"
   ]
  },
  {
   "cell_type": "code",
   "execution_count": 740,
   "id": "681aca62-606c-4756-b8cc-50e23b63902a",
   "metadata": {},
   "outputs": [
    {
     "name": "stdout",
     "output_type": "stream",
     "text": [
      "[[-4.  4.]\n",
      " [-3.  3.]\n",
      " [-2.  2.]\n",
      " [-1.  1.]\n",
      " [ 0.  0.]\n",
      " [ 1. -1.]\n",
      " [ 2. -2.]\n",
      " [ 3. -3.]\n",
      " [ 4. -4.]]\n",
      "chain_current=array([[-4.,  4.],\n",
      "       [-3.,  3.],\n",
      "       [-2.,  2.],\n",
      "       [-1.,  1.],\n",
      "       [ 0.,  0.],\n",
      "       [ 1., -1.],\n",
      "       [ 2., -2.],\n",
      "       [ 3., -3.],\n",
      "       [ 4., -4.]])\n",
      "\n",
      "final chain: [array([-4.,  4.]), (-2.929527116668976, 3.2163980404935715), (-2.7116391822714725, 3.1273103350541143), (-1.916366713693304, 3.0198837836061694), (2.2215905614256295, 2.29654108715057), (3.110309921548038, 1.2749499154168134), (3.4827126862133917, -0.9115386748882758), (3.6211813930612626, -2.0749801011439293), array([ 4., -4.])]\n",
      "dist 0-1: 1.3266288949398586\n",
      "dist 1-2: 0.2353970501439606\n",
      "dist 2-3: 0.8024953353349862\n",
      "dist 3-4: 4.200704115648396\n",
      "dist 4-5: 1.3540570974743762\n",
      "dist 5-6: 2.2179756929832966\n",
      "dist 6-7: 1.1716524805179696\n",
      "dist 7-8: 1.9619391295233504\n"
     ]
    },
    {
     "data": {
      "image/png": "[encoded data removed]",
      "text/plain": [
       "<Figure size 849.6x720 with 2 Axes>"
      ]
     },
     "metadata": {
      "needs_background": "light"
     },
     "output_type": "display_data"
    }
   ],
   "source": [
    "np.random.seed(1)\n",
    "fs = 14\n",
    "# vars for sim\n",
    "nsteps = 1000\n",
    "dr=.01\n",
    "nimages = 9\n",
    "\n",
    "en_func = toy_potential_2\n",
    "grad_func = toy_grad_2\n",
    "\n",
    "\n",
    "# set up plot for potential\n",
    "min_val = -4\n",
    "max_val=4\n",
    "num=10\n",
    "fig=10\n",
    "f,ax = plt.subplots(figsize=(1.18*fig, fig))\n",
    "x = np.linspace(start=min_val,stop=max_val, num=num)\n",
    "y = x.reshape(-1,1)\n",
    "\n",
    "\n",
    "h = toy_potential_2(x, y)\n",
    "cs = plt.contourf(x, x, h)\n",
    "cbar = f.colorbar(cs)\n",
    "\n",
    "\n",
    "\n",
    "\n",
    "# # set up points\n",
    "# chain = np.sort([np.random.uniform(-1, 1, size=2) for n in range(nimages)])\n",
    "chain = np.linspace((min_val, max_val), (max_val, min_val), nimages)\n",
    "# chain = np.linspace((-3.7933036307483574, -3.103697226077475), (3, 2), nimages)\n",
    "# chain = [(-2,-.1),(0,2),(2,.1)]\n",
    "print(chain)\n",
    "\n",
    "\n",
    "plt.plot([(point[0]) for point in chain],[(point[1]) for point in chain], '^--',c='white',  label='original')\n",
    "\n",
    "\n",
    "\n",
    "# dynamics!\n",
    "chain_current = chain.copy()\n",
    "print(f\"{chain_current=}\\n\")\n",
    "for step in range(nsteps):\n",
    "    new_chain = update_points_spring(chain_current, dr, k=10, ideal_dist=.5, en_func=en_func, grad_func=grad_func)\n",
    "    # [plt.scatter(point[0], point[1], c='white') for point in chain_current]\n",
    "    chain_current = new_chain\n",
    "plt.plot([point[0] for point in chain_current],[point[1] for point in chain_current], 'o--', c='white', label='final path (PEB)')\n",
    "print(f\"final chain: {chain_current}\")\n",
    "for i in range(len(chain_current)-1):\n",
    "    print(f\"dist {i}-{i+1}: {dist(chain_current[i], chain_current[i+1])}\")\n",
    "plt.legend(fontsize=fs)\n",
    "plt.yticks(fontsize=fs)\n",
    "plt.xticks(fontsize=fs)\n",
    "plt.show()\n",
    "\n"
   ]
  },
  {
   "cell_type": "code",
   "execution_count": 741,
   "id": "de25f437-8697-479b-91f0-e8d907a02d72",
   "metadata": {},
   "outputs": [
    {
     "data": {
      "image/png": "[encoded data removed]",
      "text/plain": [
       "<Figure size 849.6x720 with 2 Axes>"
      ]
     },
     "metadata": {
      "needs_background": "light"
     },
     "output_type": "display_data"
    }
   ],
   "source": [
    "# set up plot for potential\n",
    "min_val = -4\n",
    "max_val=4\n",
    "num=10\n",
    "fig=10\n",
    "f,ax = plt.subplots(figsize=(1.18*fig, fig))\n",
    "x = np.linspace(start=min_val,stop=max_val, num=num)\n",
    "y = x.reshape(-1,1)\n",
    "\n",
    "\n",
    "h = toy_potential_2(x, y)\n",
    "cs = plt.contourf(x, x, h)\n",
    "cbar = f.colorbar(cs)\n",
    "# points_x = [point[0] for point in chain_current]\n",
    "# points_y = [point[1] for point in chain_current]\n",
    "# plt.scatter(points_x, points_y, c='white')\n",
    "# print(chain_current)\n",
    "plt.show()"
   ]
  },
  {
   "cell_type": "code",
   "execution_count": null,
   "id": "a8068186-443a-436d-8913-49bda3c5a88a",
   "metadata": {},
   "outputs": [],
   "source": []
  }
 ],
 "metadata": {
  "kernelspec": {
   "display_name": "Python 3 (ipykernel)",
   "language": "python",
   "name": "python3"
  },
  "language_info": {
   "codemirror_mode": {
    "name": "ipython",
    "version": 3
   },
   "file_extension": ".py",
   "mimetype": "text/x-python",
   "name": "python",
   "nbconvert_exporter": "python",
   "pygments_lexer": "ipython3",
   "version": "3.9.7"
  }
 },
 "nbformat": 4,
 "nbformat_minor": 5
}
